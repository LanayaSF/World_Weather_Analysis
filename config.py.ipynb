{
 "cells": [
  {
   "cell_type": "code",
   "execution_count": null,
   "id": "92cae758",
   "metadata": {},
   "outputs": [],
   "source": [
    "weather_api_key = \"b48076b9aa676720a6ab873f4f51ba29\""
   ]
  }
 ],
 "metadata": {
  "kernelspec": {
   "display_name": "PythonData",
   "language": "python",
   "name": "pythondata"
  },
  "language_info": {
   "codemirror_mode": {
    "name": "ipython",
    "version": 3
   },
   "file_extension": ".py",
   "mimetype": "text/x-python",
   "name": "python",
   "nbconvert_exporter": "python",
   "pygments_lexer": "ipython3",
   "version": "3.7.10"
  }
 },
 "nbformat": 4,
 "nbformat_minor": 5
}
